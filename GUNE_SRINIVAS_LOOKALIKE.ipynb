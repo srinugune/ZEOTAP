{
 "cells": [
  {
   "cell_type": "markdown",
   "id": "dc0a4c8b-3f19-470d-990b-16cb6d6eb6c5",
   "metadata": {},
   "source": [
    "# Task 2: Lookalike Model"
   ]
  },
  {
   "cell_type": "markdown",
   "id": "40d1fb28-726c-4a55-884f-7c1f25a3140b",
   "metadata": {},
   "source": [
    "\r\n",
    "This notebook implements a Lookalike Model to recommend the top 3 similar customers for the first 20 customers (CustomerID: C0001 - C0020). The recommendations are based on both customer profile information and transaction history.\r\n"
   ]
  },
  {
   "cell_type": "markdown",
   "id": "9be572be-4c15-40f0-a9ba-6452c37190d3",
   "metadata": {},
   "source": [
    "## Problem Statement\n",
    "The objective is to:\n",
    "1. Build a model that takes a customer's information as input and recommends 3 similar customers.\n",
    "2. Use both customer and product information to calculate similarity.\n",
    "3. Provide recommendations with similarity scores for the first 20 customers.\n",
    "4. Save the recommendations in a CSV file (`Lookalike.csv`).\n"
   ]
  },
  {
   "cell_type": "markdown",
   "id": "21603f90-5bf5-4d62-b7c5-62820b6038a1",
   "metadata": {},
   "source": [
    "## Dataset Overview\n",
    "The following datasets were used:\n",
    "1. `Customers.csv`: Contains customer details such as ID, region, and signup date.\n",
    "2. `Products.csv`: Provides product information such as product name, category, and price.\n",
    "3. `Transactions.csv`: Includes transaction details such as quantity purchased, transaction date, and total value.\n"
   ]
  },
  {
   "cell_type": "markdown",
   "id": "67423163-c8ca-487b-802e-6ceccd6c0e2a",
   "metadata": {},
   "source": [
    "## Import necessary libraries"
   ]
  },
  {
   "cell_type": "code",
   "execution_count": 1,
   "id": "56c97feb-609c-447d-9cd6-87809195f32d",
   "metadata": {},
   "outputs": [],
   "source": [
    "import pandas as pd\n",
    "import numpy as np\n",
    "from sklearn.preprocessing import OneHotEncoder\n",
    "from sklearn.metrics.pairwise import cosine_similarity\n",
    "import matplotlib.pyplot as plt\n",
    "import seaborn as sns\n"
   ]
  },
  {
   "cell_type": "markdown",
   "id": "9fd02258-e637-4d98-bc0b-fb6eafcc8d51",
   "metadata": {},
   "source": [
    "## Load the data"
   ]
  },
  {
   "cell_type": "code",
   "execution_count": 2,
   "id": "f5a0876b-e345-4724-8769-df2044521952",
   "metadata": {},
   "outputs": [],
   "source": [
    "customers=pd.read_csv(r\"C:\\Users\\Gunolla Srinivas\\Downloads\\Customers.csv\")\n",
    "products=pd.read_csv(r\"C:\\Users\\Gunolla Srinivas\\Downloads\\Products.csv\")\n",
    "transactions=pd.read_csv(r\"C:\\Users\\Gunolla Srinivas\\Downloads\\Transactions.csv\")"
   ]
  },
  {
   "cell_type": "code",
   "execution_count": 3,
   "id": "29e3f3c3-7e35-4880-a8da-c53fead5096c",
   "metadata": {},
   "outputs": [
    {
     "name": "stdout",
     "output_type": "stream",
     "text": [
      "  CustomerID        CustomerName         Region  SignupDate\n",
      "0      C0001    Lawrence Carroll  South America  2022-07-10\n",
      "1      C0002      Elizabeth Lutz           Asia  2022-02-13\n",
      "2      C0003      Michael Rivera  South America  2024-03-07\n",
      "3      C0004  Kathleen Rodriguez  South America  2022-10-09\n",
      "4      C0005         Laura Weber           Asia  2022-08-15\n",
      "========================================\n",
      "  ProductID              ProductName     Category   Price\n",
      "0      P001     ActiveWear Biography        Books  169.30\n",
      "1      P002    ActiveWear Smartwatch  Electronics  346.30\n",
      "2      P003  ComfortLiving Biography        Books   44.12\n",
      "3      P004            BookWorld Rug   Home Decor   95.69\n",
      "4      P005          TechPro T-Shirt     Clothing  429.31\n",
      "========================================\n",
      "  TransactionID CustomerID ProductID      TransactionDate  Quantity  \\\n",
      "0        T00001      C0199      P067  2024-08-25 12:38:23         1   \n",
      "1        T00112      C0146      P067  2024-05-27 22:23:54         1   \n",
      "2        T00166      C0127      P067  2024-04-25 07:38:55         1   \n",
      "3        T00272      C0087      P067  2024-03-26 22:55:37         2   \n",
      "4        T00363      C0070      P067  2024-03-21 15:10:10         3   \n",
      "\n",
      "   TotalValue   Price  \n",
      "0      300.68  300.68  \n",
      "1      300.68  300.68  \n",
      "2      300.68  300.68  \n",
      "3      601.36  300.68  \n",
      "4      902.04  300.68  \n"
     ]
    }
   ],
   "source": [
    "print(customers.head())\n",
    "print(\"========================================\")\n",
    "print(products.head())\n",
    "print(\"========================================\")\n",
    "print(transactions.head())\n"
   ]
  },
  {
   "cell_type": "code",
   "execution_count": 4,
   "id": "cb35c057-b4c9-4ab9-8d0c-63ddf1a1f3a6",
   "metadata": {},
   "outputs": [
    {
     "name": "stdout",
     "output_type": "stream",
     "text": [
      "Merged Data:\n",
      "  TransactionID CustomerID ProductID     TransactionDate  Quantity  \\\n",
      "0        T00001      C0199      P067 2024-08-25 12:38:23         1   \n",
      "1        T00112      C0146      P067 2024-05-27 22:23:54         1   \n",
      "2        T00166      C0127      P067 2024-04-25 07:38:55         1   \n",
      "3        T00272      C0087      P067 2024-03-26 22:55:37         2   \n",
      "4        T00363      C0070      P067 2024-03-21 15:10:10         3   \n",
      "\n",
      "   TotalValue  Price_x     CustomerName         Region SignupDate  \\\n",
      "0      300.68   300.68   Andrea Jenkins         Europe 2022-12-03   \n",
      "1      300.68   300.68  Brittany Harvey           Asia 2024-09-04   \n",
      "2      300.68   300.68  Kathryn Stevens         Europe 2024-04-04   \n",
      "3      601.36   300.68  Travis Campbell  South America 2024-04-11   \n",
      "4      902.04   300.68    Timothy Perez         Europe 2022-03-15   \n",
      "\n",
      "                       ProductName     Category  Price_y  \n",
      "0  ComfortLiving Bluetooth Speaker  Electronics   300.68  \n",
      "1  ComfortLiving Bluetooth Speaker  Electronics   300.68  \n",
      "2  ComfortLiving Bluetooth Speaker  Electronics   300.68  \n",
      "3  ComfortLiving Bluetooth Speaker  Electronics   300.68  \n",
      "4  ComfortLiving Bluetooth Speaker  Electronics   300.68  \n"
     ]
    }
   ],
   "source": [
    "\n",
    "transactions['TransactionDate'] = pd.to_datetime(transactions['TransactionDate'])\n",
    "customers['SignupDate'] = pd.to_datetime(customers['SignupDate'])\n",
    "\n",
    "# Merge datasets\n",
    "merged_data = transactions.merge(customers, on='CustomerID', how='left').merge(products, on='ProductID', how='left')\n",
    "\n",
    "# Inspect the merged dataset\n",
    "print(\"Merged Data:\")\n",
    "print(merged_data.head())\n"
   ]
  },
  {
   "cell_type": "markdown",
   "id": "aa12742d-ce81-4e1a-896b-082fc5e97caa",
   "metadata": {},
   "source": [
    "**No need for datapreprocessing as the data is clean with no missing values, since it was checked in EDA** "
   ]
  },
  {
   "cell_type": "markdown",
   "id": "09bccebe-1da0-4d90-a335-8222a2988404",
   "metadata": {},
   "source": [
    "## Feature Engineering"
   ]
  },
  {
   "cell_type": "code",
   "execution_count": 5,
   "id": "44c1216a-f4d4-4333-85e7-8be24ff730e9",
   "metadata": {},
   "outputs": [
    {
     "name": "stdout",
     "output_type": "stream",
     "text": [
      "Customer Features:\n",
      "  CustomerID  TotalSpending  PurchaseFrequency MostPurchasedProduct  \\\n",
      "0      C0001        3354.52                  5                 P022   \n",
      "1      C0002        1862.74                  4                 P004   \n",
      "2      C0003        2725.38                  4                 P002   \n",
      "3      C0004        5354.88                  8                 P008   \n",
      "4      C0005        2034.24                  3                 P012   \n",
      "\n",
      "          Region  \n",
      "0  South America  \n",
      "1           Asia  \n",
      "2  South America  \n",
      "3  South America  \n",
      "4           Asia  \n"
     ]
    }
   ],
   "source": [
    "\n",
    "customer_features = merged_data.groupby('CustomerID').agg({\n",
    "    'TotalValue': 'sum',            # Total spending (Customer Lifetime Value)\n",
    "    'TransactionID': 'count',      # Number of transactions (purchase frequency)\n",
    "    'ProductID': lambda x: x.mode()[0],  # Most purchased product\n",
    "    'Region': 'first'              # Region (from Customers.csv)\n",
    "}).reset_index()\n",
    "\n",
    "# Rename columns for clarity\n",
    "customer_features.rename(columns={\n",
    "    'TotalValue': 'TotalSpending',\n",
    "    'TransactionID': 'PurchaseFrequency',\n",
    "    'ProductID': 'MostPurchasedProduct'\n",
    "}, inplace=True)\n",
    "\n",
    "# Inspect customer-level features\n",
    "print(\"Customer Features:\")\n",
    "print(customer_features.head())\n"
   ]
  },
  {
   "cell_type": "markdown",
   "id": "ae93edf8-b00f-4246-8564-b32311ac48a8",
   "metadata": {},
   "source": [
    "## Model Development\n",
    "1. **Cosine Similarity**: A similarity metric used to compare customer profiles based on their feature vectors.\n",
    "2. **Steps**:\n",
    "    - Encode categorical features using one-hot encoding.\n",
    "    - Compute cosine similarity for all customers.\n",
    "    - For each of the first 20 customers (C0001 - C0020), recommend the top 3 similar customers.\n",
    "\n",
    "3. **Implementation**:\n"
   ]
  },
  {
   "cell_type": "code",
   "execution_count": 6,
   "id": "0139a9df-d700-47d6-8dc0-def20e159c2b",
   "metadata": {},
   "outputs": [
    {
     "name": "stdout",
     "output_type": "stream",
     "text": [
      "Encoded Feature Data:\n",
      "                 0    1    2    3    4    5    6    7    8    9   ...   66  \\\n",
      "CustomerID                                                        ...        \n",
      "C0001       3354.52  5.0  0.0  0.0  0.0  1.0  0.0  0.0  0.0  0.0  ...  0.0   \n",
      "C0002       1862.74  4.0  1.0  0.0  0.0  0.0  0.0  0.0  0.0  1.0  ...  0.0   \n",
      "C0003       2725.38  4.0  0.0  0.0  0.0  1.0  0.0  1.0  0.0  0.0  ...  0.0   \n",
      "C0004       5354.88  8.0  0.0  0.0  0.0  1.0  0.0  0.0  0.0  0.0  ...  0.0   \n",
      "C0005       2034.24  3.0  1.0  0.0  0.0  0.0  0.0  0.0  0.0  0.0  ...  0.0   \n",
      "\n",
      "             67   68   69   70   71   72   73   74   75  \n",
      "CustomerID                                               \n",
      "C0001       0.0  0.0  0.0  0.0  0.0  0.0  0.0  0.0  0.0  \n",
      "C0002       0.0  0.0  0.0  0.0  0.0  0.0  0.0  0.0  0.0  \n",
      "C0003       0.0  0.0  0.0  0.0  0.0  0.0  0.0  0.0  0.0  \n",
      "C0004       0.0  0.0  0.0  0.0  0.0  0.0  0.0  0.0  0.0  \n",
      "C0005       0.0  0.0  0.0  0.0  0.0  0.0  0.0  0.0  0.0  \n",
      "\n",
      "[5 rows x 76 columns]\n"
     ]
    }
   ],
   "source": [
    "# Initialize the one-hot encoder\n",
    "encoder = OneHotEncoder(sparse_output=False)\n",
    "\n",
    "# Encode categorical features\n",
    "encoded_data = encoder.fit_transform(customer_features[['Region', 'MostPurchasedProduct']])\n",
    "\n",
    "# Combine with numerical features\n",
    "numerical_features = customer_features[['TotalSpending', 'PurchaseFrequency']].values\n",
    "final_features = np.hstack((numerical_features, encoded_data))\n",
    "\n",
    "# Create a DataFrame for final features\n",
    "feature_df = pd.DataFrame(final_features, index=customer_features['CustomerID'])\n",
    "print(\"Encoded Feature Data:\")\n",
    "print(feature_df.head())\n"
   ]
  },
  {
   "cell_type": "code",
   "execution_count": 7,
   "id": "482c372f-9925-4ffb-ab30-1a982179c4b2",
   "metadata": {},
   "outputs": [
    {
     "name": "stdout",
     "output_type": "stream",
     "text": [
      "Similarity Matrix:\n",
      "CustomerID     C0001     C0002     C0003     C0004  C0005     C0006     C0007  \\\n",
      "CustomerID                                                                      \n",
      "C0001       1.000000  0.999999  1.000000  1.000000    1.0  1.000000  1.000000   \n",
      "C0002       0.999999  1.000000  0.999999  0.999999    1.0  0.999999  0.999999   \n",
      "C0003       1.000000  0.999999  1.000000  1.000000    1.0  1.000000  1.000000   \n",
      "C0004       1.000000  0.999999  1.000000  1.000000    1.0  1.000000  1.000000   \n",
      "C0005       1.000000  1.000000  1.000000  1.000000    1.0  1.000000  1.000000   \n",
      "\n",
      "CustomerID     C0008     C0009     C0010  ...     C0191     C0192     C0193  \\\n",
      "CustomerID                                ...                                 \n",
      "C0001       0.999999  0.999997  0.999999  ...  1.000000  1.000000  1.000000   \n",
      "C0002       1.000000  0.999998  0.999999  ...  0.999999  0.999999  0.999999   \n",
      "C0003       0.999999  0.999997  0.999999  ...  1.000000  1.000000  1.000000   \n",
      "C0004       1.000000  0.999997  0.999999  ...  1.000000  1.000000  1.000000   \n",
      "C0005       0.999999  0.999997  0.999999  ...  1.000000  0.999999  1.000000   \n",
      "\n",
      "CustomerID  C0194     C0195     C0196     C0197     C0198     C0199     C0200  \n",
      "CustomerID                                                                     \n",
      "C0001         1.0  1.000000  1.000000  1.000000  0.999999  1.000000  1.000000  \n",
      "C0002         1.0  0.999999  0.999999  0.999999  0.999999  0.999999  0.999999  \n",
      "C0003         1.0  1.000000  1.000000  1.000000  0.999998  0.999999  1.000000  \n",
      "C0004         1.0  1.000000  1.000000  1.000000  0.999999  1.000000  1.000000  \n",
      "C0005         1.0  1.000000  0.999999  0.999999  0.999998  0.999999  1.000000  \n",
      "\n",
      "[5 rows x 199 columns]\n"
     ]
    }
   ],
   "source": [
    "# Compute cosine similarity\n",
    "similarity_matrix = cosine_similarity(final_features)\n",
    "\n",
    "# Convert similarity matrix into a DataFrame\n",
    "similarity_df = pd.DataFrame(similarity_matrix, index=customer_features['CustomerID'], columns=customer_features['CustomerID'])\n",
    "print(\"Similarity Matrix:\")\n",
    "print(similarity_df.head())\n"
   ]
  },
  {
   "cell_type": "code",
   "execution_count": 8,
   "id": "40c1f332-1846-4d4f-ac8e-00ab44585243",
   "metadata": {},
   "outputs": [
    {
     "name": "stdout",
     "output_type": "stream",
     "text": [
      "Lookalike Recommendations:\n",
      "C0001: [('C0004', 0.999999931923442), ('C0108', 0.9999999289840698), ('C0195', 0.9999999236002459)]\n",
      "C0002: [('C0084', 0.9999997746773641), ('C0008', 0.9999997639200442), ('C0030', 0.9999997511659535)]\n",
      "C0003: [('C0181', 0.9999999426523349), ('C0004', 0.9999998986707181), ('C0108', 0.9999998982207177)]\n",
      "C0004: [('C0175', 0.9999999625172586), ('C0108', 0.9999999598423617), ('C0165', 0.9999999591440412)]\n",
      "C0005: [('C0136', 0.9999998154591322), ('C0021', 0.9999998150023149), ('C0101', 0.9999998138867635)]\n",
      "C0006: [('C0082', 0.9999999576078181), ('C0148', 0.999999953365424), ('C0171', 0.9999999519205709)]\n",
      "C0007: [('C0045', 0.9999998865408598), ('C0143', 0.9999998864941381), ('C0028', 0.9999998850331955)]\n",
      "C0008: [('C0139', 0.9999999191219219), ('C0030', 0.9999999028016224), ('C0047', 0.9999999006349001)]\n",
      "C0009: [('C0019', 0.9999988759704312), ('C0172', 0.9999988631959593), ('C0111', 0.9999987344569046)]\n",
      "C0010: [('C0103', 0.9999996879984419), ('C0111', 0.9999996781543027), ('C0034', 0.9999996736979779)]\n",
      "C0011: [('C0165', 0.9999999458668444), ('C0102', 0.9999999446056758), ('C0012', 0.9999999428289046)]\n",
      "C0012: [('C0133', 0.9999999746210557), ('C0165', 0.9999999697259253), ('C0102', 0.9999999674759935)]\n",
      "C0013: [('C0188', 0.9999999750229388), ('C0099', 0.9999999745655324), ('C0104', 0.999999973234029)]\n",
      "C0014: [('C0009', 0.9999923868021178), ('C0198', 0.9999918764753756), ('C0121', 0.9999918524914122)]\n",
      "C0015: [('C0055', 0.9999994332330822), ('C0160', 0.9999994318508552), ('C0072', 0.9999994286195278)]\n",
      "C0016: [('C0046', 0.9999999924431742), ('C0065', 0.9999999499323323), ('C0068', 0.9999999470618057)]\n",
      "C0017: [('C0075', 0.9999999520980506), ('C0124', 0.9999999492334175), ('C0179', 0.9999999375809235)]\n",
      "C0018: [('C0026', 0.9999999914068579), ('C0059', 0.9999999621987485), ('C0117', 0.9999999451700621)]\n",
      "C0019: [('C0172', 0.9999997920034195), ('C0111', 0.9999997434782885), ('C0161', 0.9999996696592035)]\n",
      "C0020: [('C0042', 0.9999990891450572), ('C0176', 0.9999990851805336), ('C0050', 0.9999990661023501)]\n"
     ]
    }
   ],
   "source": [
    "# Select the first 20 customers\n",
    "target_customers = customer_features['CustomerID'][:20]\n",
    "\n",
    "# Find top 3 similar customers for each target customer\n",
    "lookalike_results = {}\n",
    "for cust_id in target_customers:\n",
    "    # Get similarity scores for the current customer\n",
    "    scores = similarity_df.loc[cust_id]\n",
    "    # Sort scores in descending order and exclude the customer itself\n",
    "    top_similar = scores.sort_values(ascending=False).iloc[1:4]  # Top 3 excluding self\n",
    "    lookalike_results[cust_id] = list(zip(top_similar.index, top_similar.values))\n",
    "\n",
    "# Print the recommendations\n",
    "print(\"Lookalike Recommendations:\")\n",
    "for cust_id, recommendations in lookalike_results.items():\n",
    "    print(f\"{cust_id}: {recommendations}\")\n"
   ]
  },
  {
   "cell_type": "code",
   "execution_count": 9,
   "id": "4059e14e-35f1-4f14-81e7-bdd30de66b9e",
   "metadata": {},
   "outputs": [
    {
     "data": {
      "image/png": "[encoded data removed]",
      "text/plain": [
       "<Figure size 800x600 with 2 Axes>"
      ]
     },
     "metadata": {},
     "output_type": "display_data"
    }
   ],
   "source": [
    "# Heatmap of similarity matrix for the first 10 customers\n",
    "import seaborn as sns\n",
    "plt.figure(figsize=(8, 6))\n",
    "sns.heatmap(similarity_df.iloc[:10, :10], annot=True, cmap='coolwarm')\n",
    "plt.title('Similarity Matrix Heatmap (First 10 Customers)')\n",
    "plt.show()\n"
   ]
  },
  {
   "cell_type": "markdown",
   "id": "b1e04a87-aa55-422b-8beb-21020e3bef11",
   "metadata": {},
   "source": [
    "## few example recommendations for a few customers"
   ]
  },
  {
   "cell_type": "code",
   "execution_count": 10,
   "id": "a88127c1-7d16-49fe-8670-aad113b1cdb7",
   "metadata": {},
   "outputs": [
    {
     "name": "stdout",
     "output_type": "stream",
     "text": [
      "Example Recommendations:\n",
      "CustomerID: C0001\n",
      "Top 3 Similar Customers:\n",
      "  - C0004 (Similarity Score: 1.00)\n",
      "  - C0108 (Similarity Score: 1.00)\n",
      "  - C0195 (Similarity Score: 1.00)\n",
      "\n",
      "CustomerID: C0002\n",
      "Top 3 Similar Customers:\n",
      "  - C0084 (Similarity Score: 1.00)\n",
      "  - C0008 (Similarity Score: 1.00)\n",
      "  - C0030 (Similarity Score: 1.00)\n",
      "\n",
      "CustomerID: C0003\n",
      "Top 3 Similar Customers:\n",
      "  - C0181 (Similarity Score: 1.00)\n",
      "  - C0004 (Similarity Score: 1.00)\n",
      "  - C0108 (Similarity Score: 1.00)\n",
      "\n"
     ]
    }
   ],
   "source": [
    "# Showcase example recommendations for a few customers\n",
    "example_customers = ['C0001', 'C0002', 'C0003']\n",
    "\n",
    "print(\"Example Recommendations:\")\n",
    "for cust_id in example_customers:\n",
    "    print(f\"CustomerID: {cust_id}\")\n",
    "    print(\"Top 3 Similar Customers:\")\n",
    "    for similar_cust, score in lookalike_results[cust_id]:\n",
    "        print(f\"  - {similar_cust} (Similarity Score: {score:.2f})\")\n",
    "    print()\n"
   ]
  },
  {
   "cell_type": "markdown",
   "id": "d2506ae6-bf87-4d58-b2aa-0ff93300017f",
   "metadata": {},
   "source": [
    "## Results and Deliverables\n",
    "The top 3 similar customers for each of the first 20 customers (C0001 - C0020) have been generated and saved in `Lookalike.csv`.\n"
   ]
  },
  {
   "cell_type": "code",
   "execution_count": 11,
   "id": "86948f21-31bd-4294-b4bf-a6d834b31d4c",
   "metadata": {},
   "outputs": [
    {
     "name": "stdout",
     "output_type": "stream",
     "text": [
      "Lookalike recommendations saved to Lookalike.csv.\n"
     ]
    }
   ],
   "source": [
    "# Save recommendations to Lookalike.csv\n",
    "lookalike_data = []\n",
    "for cust_id, recommendations in lookalike_results.items():\n",
    "    lookalike_data.append({'CustomerID': cust_id, 'Recommendations': recommendations})\n",
    "\n",
    "lookalike_df = pd.DataFrame(lookalike_data)\n",
    "lookalike_df.to_csv('GUNE_SRINIVAS_Lookalike.csv', index=False)\n",
    "\n",
    "print(\"Lookalike recommendations saved to Lookalike.csv.\")\n"
   ]
  },
  {
   "cell_type": "markdown",
   "id": "369b5371-321a-4ac8-a3d3-532b81d77f93",
   "metadata": {},
   "source": [
    "## Conclusion\r\n",
    "The Lookalike Model successfully recommends the top 3 most similar customers for the first 20 customers using cosine similarity. The model combines customer profile information and transaction history to generate recommendations, which can be used for personalized marketing strategies. Future enhancements could include:\r\n",
    "1. Weighting features based on importance.\r\n",
    "2. Incorporating recency and seasonal patterns.\r\n"
   ]
  },
  {
   "cell_type": "code",
   "execution_count": null,
   "id": "db5d2e70-7fcf-45a3-9c0e-b6c055944c2a",
   "metadata": {},
   "outputs": [],
   "source": []
  }
 ],
 "metadata": {
  "kernelspec": {
   "display_name": "Python 3 (ipykernel)",
   "language": "python",
   "name": "python3"
  },
  "language_info": {
   "codemirror_mode": {
    "name": "ipython",
    "version": 3
   },
   "file_extension": ".py",
   "mimetype": "text/x-python",
   "name": "python",
   "nbconvert_exporter": "python",
   "pygments_lexer": "ipython3",
   "version": "3.11.7"
  }
 },
 "nbformat": 4,
 "nbformat_minor": 5
}
